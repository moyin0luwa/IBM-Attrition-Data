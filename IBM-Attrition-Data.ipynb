{
 "cells": [
  {
   "cell_type": "code",
   "execution_count": 1,
   "id": "ac55997b",
   "metadata": {},
   "outputs": [],
   "source": [
    "# Required imports for the Project\n",
    "import pandas as pd\n",
    "import matplotlib.pyplot as plt\n",
    "import seaborn as sns\n",
    "import numpy as np"
   ]
  },
  {
   "cell_type": "code",
   "execution_count": 2,
   "id": "d0b37d06",
   "metadata": {},
   "outputs": [],
   "source": [
    "#Loading in the Dataset\n",
    "df_attrition_data = pd.read_csv(r'./IBM Attrition Data.csv')"
   ]
  },
  {
   "cell_type": "code",
   "execution_count": 3,
   "id": "9546fe10",
   "metadata": {},
   "outputs": [
    {
     "data": {
      "text/html": [
       "<div>\n",
       "<style scoped>\n",
       "    .dataframe tbody tr th:only-of-type {\n",
       "        vertical-align: middle;\n",
       "    }\n",
       "\n",
       "    .dataframe tbody tr th {\n",
       "        vertical-align: top;\n",
       "    }\n",
       "\n",
       "    .dataframe thead th {\n",
       "        text-align: right;\n",
       "    }\n",
       "</style>\n",
       "<table border=\"1\" class=\"dataframe\">\n",
       "  <thead>\n",
       "    <tr style=\"text-align: right;\">\n",
       "      <th></th>\n",
       "      <th>Age</th>\n",
       "      <th>Attrition</th>\n",
       "      <th>Department</th>\n",
       "      <th>DistanceFromHome</th>\n",
       "      <th>Education</th>\n",
       "      <th>EducationField</th>\n",
       "      <th>EnvironmentSatisfaction</th>\n",
       "      <th>JobSatisfaction</th>\n",
       "      <th>MaritalStatus</th>\n",
       "      <th>MonthlyIncome</th>\n",
       "      <th>NumCompaniesWorked</th>\n",
       "      <th>WorkLifeBalance</th>\n",
       "      <th>YearsAtCompany</th>\n",
       "    </tr>\n",
       "  </thead>\n",
       "  <tbody>\n",
       "    <tr>\n",
       "      <th>0</th>\n",
       "      <td>41</td>\n",
       "      <td>Yes</td>\n",
       "      <td>Sales</td>\n",
       "      <td>1</td>\n",
       "      <td>2</td>\n",
       "      <td>Life Sciences</td>\n",
       "      <td>2</td>\n",
       "      <td>4</td>\n",
       "      <td>Single</td>\n",
       "      <td>5993</td>\n",
       "      <td>8</td>\n",
       "      <td>1</td>\n",
       "      <td>6</td>\n",
       "    </tr>\n",
       "    <tr>\n",
       "      <th>1</th>\n",
       "      <td>49</td>\n",
       "      <td>No</td>\n",
       "      <td>Research &amp; Development</td>\n",
       "      <td>8</td>\n",
       "      <td>1</td>\n",
       "      <td>Life Sciences</td>\n",
       "      <td>3</td>\n",
       "      <td>2</td>\n",
       "      <td>Married</td>\n",
       "      <td>5130</td>\n",
       "      <td>1</td>\n",
       "      <td>3</td>\n",
       "      <td>10</td>\n",
       "    </tr>\n",
       "    <tr>\n",
       "      <th>2</th>\n",
       "      <td>37</td>\n",
       "      <td>Yes</td>\n",
       "      <td>Research &amp; Development</td>\n",
       "      <td>2</td>\n",
       "      <td>2</td>\n",
       "      <td>Other</td>\n",
       "      <td>4</td>\n",
       "      <td>3</td>\n",
       "      <td>Single</td>\n",
       "      <td>2090</td>\n",
       "      <td>6</td>\n",
       "      <td>3</td>\n",
       "      <td>0</td>\n",
       "    </tr>\n",
       "    <tr>\n",
       "      <th>3</th>\n",
       "      <td>33</td>\n",
       "      <td>No</td>\n",
       "      <td>Research &amp; Development</td>\n",
       "      <td>3</td>\n",
       "      <td>4</td>\n",
       "      <td>Life Sciences</td>\n",
       "      <td>4</td>\n",
       "      <td>3</td>\n",
       "      <td>Married</td>\n",
       "      <td>2909</td>\n",
       "      <td>1</td>\n",
       "      <td>3</td>\n",
       "      <td>8</td>\n",
       "    </tr>\n",
       "    <tr>\n",
       "      <th>4</th>\n",
       "      <td>27</td>\n",
       "      <td>No</td>\n",
       "      <td>Research &amp; Development</td>\n",
       "      <td>2</td>\n",
       "      <td>1</td>\n",
       "      <td>Medical</td>\n",
       "      <td>1</td>\n",
       "      <td>2</td>\n",
       "      <td>Married</td>\n",
       "      <td>3468</td>\n",
       "      <td>9</td>\n",
       "      <td>3</td>\n",
       "      <td>2</td>\n",
       "    </tr>\n",
       "  </tbody>\n",
       "</table>\n",
       "</div>"
      ],
      "text/plain": [
       "   Age Attrition              Department  DistanceFromHome  Education  \\\n",
       "0   41       Yes                   Sales                 1          2   \n",
       "1   49        No  Research & Development                 8          1   \n",
       "2   37       Yes  Research & Development                 2          2   \n",
       "3   33        No  Research & Development                 3          4   \n",
       "4   27        No  Research & Development                 2          1   \n",
       "\n",
       "  EducationField  EnvironmentSatisfaction  JobSatisfaction MaritalStatus  \\\n",
       "0  Life Sciences                        2                4        Single   \n",
       "1  Life Sciences                        3                2       Married   \n",
       "2          Other                        4                3        Single   \n",
       "3  Life Sciences                        4                3       Married   \n",
       "4        Medical                        1                2       Married   \n",
       "\n",
       "   MonthlyIncome  NumCompaniesWorked  WorkLifeBalance  YearsAtCompany  \n",
       "0           5993                   8                1               6  \n",
       "1           5130                   1                3              10  \n",
       "2           2090                   6                3               0  \n",
       "3           2909                   1                3               8  \n",
       "4           3468                   9                3               2  "
      ]
     },
     "execution_count": 3,
     "metadata": {},
     "output_type": "execute_result"
    }
   ],
   "source": [
    "df_attrition_data.head()"
   ]
  },
  {
   "cell_type": "code",
   "execution_count": null,
   "id": "08f07aba",
   "metadata": {},
   "outputs": [],
   "source": [
    "# Exploring to better understand the Dataset\n",
    "print(f'size: {df_attrition_data.size}')\n",
    "print(f'shape: {df_attrition_data.shape}')\n",
    "print(f'columns: {df_attrition_data.columns}')\n",
    "# From exploring we observe that the response is the attrition column, whilst the others are the features"
   ]
  },
  {
   "cell_type": "markdown",
   "id": "eb4c7a91",
   "metadata": {},
   "source": [
    "### EXPLORATORY DATA ANALYSIS "
   ]
  },
  {
   "cell_type": "markdown",
   "id": "fe977081",
   "metadata": {},
   "source": [
    "##### 1)Find the age distribution of employees in IBM: Through an Histogram"
   ]
  },
  {
   "cell_type": "code",
   "execution_count": null,
   "id": "6819364e",
   "metadata": {},
   "outputs": [],
   "source": [
    "# Extracting the age column from the dataset\n",
    "ages_of_employees = df_attrition_data['Age']"
   ]
  },
  {
   "cell_type": "code",
   "execution_count": null,
   "id": "494f1ff4",
   "metadata": {},
   "outputs": [],
   "source": [
    "# define the x_axis\n",
    "x_axis = ages_of_employees"
   ]
  },
  {
   "cell_type": "code",
   "execution_count": null,
   "id": "783f3126",
   "metadata": {},
   "outputs": [],
   "source": [
    "# Additional imports for the plot\n",
    "from matplotlib import style\n",
    "%matplotlib inline"
   ]
  },
  {
   "cell_type": "code",
   "execution_count": null,
   "id": "31214785",
   "metadata": {},
   "outputs": [],
   "source": [
    "# Configuration for the Histogram plot and creating the plot\n",
    "style.use('ggplot')\n",
    "plt.figure(figsize=(10,10))\n",
    "h = plt.hist(x_axis, bins=42, facecolor='g')\n",
    "plt.xlim(17, 61)\n",
    "plt.ylim(0, 80)\n",
    "plt.title('AGE DISTRIBUTION OF EMPLOYEES IN IBM')\n",
    "plt.xlabel('Age')\n",
    "plt.ylabel('Number of Employees')\n",
    "plt.show()"
   ]
  },
  {
   "cell_type": "markdown",
   "id": "a92939e8",
   "metadata": {},
   "source": [
    "##### 2)Explore attrition by age: Through a Grouped Bar Chart"
   ]
  },
  {
   "cell_type": "code",
   "execution_count": 4,
   "id": "cbefaae8",
   "metadata": {},
   "outputs": [
    {
     "data": {
      "text/html": [
       "<div>\n",
       "<style scoped>\n",
       "    .dataframe tbody tr th:only-of-type {\n",
       "        vertical-align: middle;\n",
       "    }\n",
       "\n",
       "    .dataframe tbody tr th {\n",
       "        vertical-align: top;\n",
       "    }\n",
       "\n",
       "    .dataframe thead th {\n",
       "        text-align: right;\n",
       "    }\n",
       "</style>\n",
       "<table border=\"1\" class=\"dataframe\">\n",
       "  <thead>\n",
       "    <tr style=\"text-align: right;\">\n",
       "      <th></th>\n",
       "      <th>Attrition</th>\n",
       "      <th>Age</th>\n",
       "    </tr>\n",
       "  </thead>\n",
       "  <tbody>\n",
       "    <tr>\n",
       "      <th>0</th>\n",
       "      <td>Yes</td>\n",
       "      <td>41</td>\n",
       "    </tr>\n",
       "    <tr>\n",
       "      <th>1</th>\n",
       "      <td>No</td>\n",
       "      <td>49</td>\n",
       "    </tr>\n",
       "    <tr>\n",
       "      <th>2</th>\n",
       "      <td>Yes</td>\n",
       "      <td>37</td>\n",
       "    </tr>\n",
       "    <tr>\n",
       "      <th>3</th>\n",
       "      <td>No</td>\n",
       "      <td>33</td>\n",
       "    </tr>\n",
       "    <tr>\n",
       "      <th>4</th>\n",
       "      <td>No</td>\n",
       "      <td>27</td>\n",
       "    </tr>\n",
       "  </tbody>\n",
       "</table>\n",
       "</div>"
      ],
      "text/plain": [
       "  Attrition  Age\n",
       "0       Yes   41\n",
       "1        No   49\n",
       "2       Yes   37\n",
       "3        No   33\n",
       "4        No   27"
      ]
     },
     "execution_count": 4,
     "metadata": {},
     "output_type": "execute_result"
    }
   ],
   "source": [
    "# First the age and the Attrition columns are extracted\n",
    "df_attrition_by_age = df_attrition_data[['Attrition', 'Age']]\n",
    "df_attrition_by_age.head()"
   ]
  },
  {
   "cell_type": "code",
   "execution_count": 5,
   "id": "d45a4695",
   "metadata": {},
   "outputs": [],
   "source": [
    "# Extracting the age and the corresponding number of attrition status(Yes and No) into lists.\n",
    "employee_ages = df_attrition_by_age.groupby('Age')\n",
    "age_labels = []\n",
    "attrition_value_yes = []\n",
    "attrition_value_no = []\n",
    "for age in range(18,61):\n",
    "    each_age = employee_ages.get_group(age)\n",
    "    age_labels.append(age)\n",
    "    attrition_value_yes.append(len(each_age[each_age.Attrition == \"Yes\"]))\n",
    "    attrition_value_no.append(len(each_age[each_age.Attrition == \"No\"]))"
   ]
  },
  {
   "cell_type": "code",
   "execution_count": 6,
   "id": "86503743",
   "metadata": {},
   "outputs": [],
   "source": [
    "# Addtional imports for the plot\n",
    "from matplotlib import style\n",
    "%matplotlib inline"
   ]
  },
  {
   "cell_type": "code",
   "execution_count": 7,
   "id": "41afa852",
   "metadata": {},
   "outputs": [
    {
     "data": {
      "image/png": "[encoded data removed]",
      "text/plain": [
       "<Figure size 936x504 with 1 Axes>"
      ]
     },
     "metadata": {},
     "output_type": "display_data"
    }
   ],
   "source": [
    "# Creating and configuring the Grouped Bar Chart\n",
    "x = np.arange(len(age_labels))\n",
    "width = 0.5\n",
    "style.use('ggplot')\n",
    "plt.figure(figsize=(13,7), tight_layout=True)\n",
    "plt.ylim(0, 70)\n",
    "yesBar = plt.bar(x - width/2, attrition_value_yes, width, label='Yes')\n",
    "noBar = plt.bar(x + width/2, attrition_value_no, width, label='No')\n",
    "plt.xticks(x, age_labels)\n",
    "plt.legend()\n",
    "plt.title('LEVEL OF ATTRITION OF EMPLOYEES PER AGE')\n",
    "plt.xlabel('Age')\n",
    "plt.ylabel('Number of Employees')\n",
    "plt.bar_label(yesBar, padding=3)\n",
    "plt.bar_label(noBar, padding=3)\n",
    "plt.show()"
   ]
  },
  {
   "cell_type": "code",
   "execution_count": null,
   "id": "f6c6b894",
   "metadata": {},
   "outputs": [],
   "source": []
  }
 ],
 "metadata": {
  "kernelspec": {
   "display_name": "Python 3 (ipykernel)",
   "language": "python",
   "name": "python3"
  },
  "language_info": {
   "codemirror_mode": {
    "name": "ipython",
    "version": 3
   },
   "file_extension": ".py",
   "mimetype": "text/x-python",
   "name": "python",
   "nbconvert_exporter": "python",
   "pygments_lexer": "ipython3",
   "version": "3.10.4"
  }
 },
 "nbformat": 4,
 "nbformat_minor": 5
}
