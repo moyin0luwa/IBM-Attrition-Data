{
 "cells": [
  {
   "cell_type": "code",
   "execution_count": 1,
   "id": "ac55997b",
   "metadata": {},
   "outputs": [],
   "source": [
    "# Required imports for the Project\n",
    "import pandas as pd\n",
    "import matplotlib.pyplot as plt\n",
    "import seaborn as sns\n",
    "import numpy as np"
   ]
  },
  {
   "cell_type": "code",
   "execution_count": 2,
   "id": "d0b37d06",
   "metadata": {},
   "outputs": [],
   "source": [
    "# Loading in the Dataset\n",
    "df_attrition_data = pd.read_csv(r'./IBM Attrition Data.csv')"
   ]
  },
  {
   "cell_type": "code",
   "execution_count": null,
   "id": "9546fe10",
   "metadata": {},
   "outputs": [],
   "source": [
    "df_attrition_data.head()"
   ]
  },
  {
   "cell_type": "code",
   "execution_count": null,
   "id": "08f07aba",
   "metadata": {},
   "outputs": [],
   "source": [
    "# Exploring to better understand the Dataset\n",
    "print(f'size: {df_attrition_data.size}')\n",
    "print(f'shape: {df_attrition_data.shape}')\n",
    "print(f'columns: {df_attrition_data.columns}')\n",
    "# From exploring we observe that the response is the attrition column, whilst the others are the features"
   ]
  },
  {
   "cell_type": "markdown",
   "id": "eb4c7a91",
   "metadata": {},
   "source": [
    "### EXPLORATORY DATA ANALYSIS "
   ]
  },
  {
   "cell_type": "markdown",
   "id": "fe977081",
   "metadata": {},
   "source": [
    "##### 1)Find the age distribution of employees in IBM: Through an Histogram"
   ]
  },
  {
   "cell_type": "code",
   "execution_count": null,
   "id": "6819364e",
   "metadata": {},
   "outputs": [],
   "source": [
    "# Extracting the age column from the dataset\n",
    "ages_of_employees = df_attrition_data['Age']"
   ]
  },
  {
   "cell_type": "code",
   "execution_count": null,
   "id": "494f1ff4",
   "metadata": {},
   "outputs": [],
   "source": [
    "# define the x_axis\n",
    "x_axis = ages_of_employees"
   ]
  },
  {
   "cell_type": "code",
   "execution_count": null,
   "id": "783f3126",
   "metadata": {},
   "outputs": [],
   "source": [
    "# Additional imports for the plot\n",
    "from matplotlib import style\n",
    "%matplotlib inline"
   ]
  },
  {
   "cell_type": "code",
   "execution_count": null,
   "id": "31214785",
   "metadata": {},
   "outputs": [],
   "source": [
    "# Configuration for the Histogram plot and creating the plot\n",
    "style.use('ggplot')\n",
    "plt.figure(figsize=(10, 10))\n",
    "h = plt.hist(x_axis, bins=42, facecolor='g')\n",
    "plt.xlim(17, 61)\n",
    "plt.ylim(0, 80)\n",
    "plt.title('AGE DISTRIBUTION OF EMPLOYEES IN IBM')\n",
    "plt.xlabel('Age')\n",
    "plt.ylabel('Number of Employees')\n",
    "plt.show()"
   ]
  },
  {
   "cell_type": "markdown",
   "id": "a92939e8",
   "metadata": {},
   "source": [
    "##### 2)Explore attrition by age: Through a Grouped Bar Chart"
   ]
  },
  {
   "cell_type": "code",
   "execution_count": null,
   "id": "cbefaae8",
   "metadata": {},
   "outputs": [],
   "source": [
    "# First the age and the Attrition columns are extracted\n",
    "df_attrition_by_age = df_attrition_data[['Attrition', 'Age']]\n",
    "df_attrition_by_age.head()"
   ]
  },
  {
   "cell_type": "code",
   "execution_count": null,
   "id": "d45a4695",
   "metadata": {},
   "outputs": [],
   "source": [
    "# Extracting the age and the corresponding number of attrition status(Yes and No) into lists.\n",
    "employee_ages = df_attrition_by_age.groupby('Age')\n",
    "age_labels = []\n",
    "attrition_value_yes = []\n",
    "attrition_value_no = []\n",
    "for age in range(18, 61):\n",
    "    each_age = employee_ages.get_group(age)\n",
    "    age_labels.append(age)\n",
    "    attrition_value_yes.append(len(each_age[each_age.Attrition == \"Yes\"]))\n",
    "    attrition_value_no.append(len(each_age[each_age.Attrition == \"No\"]))"
   ]
  },
  {
   "cell_type": "code",
   "execution_count": null,
   "id": "be7972c3",
   "metadata": {},
   "outputs": [],
   "source": [
    "# Addtional imports for the plot\n",
    "from matplotlib import style\n",
    "%matplotlib inline"
   ]
  },
  {
   "cell_type": "code",
   "execution_count": null,
   "id": "fead45ed",
   "metadata": {},
   "outputs": [],
   "source": [
    "# Creating and configuring the Grouped Bar Chart\n",
    "x = np.arange(len(age_labels))\n",
    "width = 0.5\n",
    "style.use('ggplot')\n",
    "plt.figure(figsize=(13, 7), tight_layout=True)\n",
    "plt.ylim(0, 70)\n",
    "yesBar = plt.bar(x - width/2, attrition_value_yes, width, label='Yes')\n",
    "noBar = plt.bar(x + width/2, attrition_value_no, width, label='No')\n",
    "plt.xticks(x, age_labels)\n",
    "plt.legend()\n",
    "plt.title('LEVEL OF ATTRITION OF EMPLOYEES PER AGE')\n",
    "plt.xlabel('Age')\n",
    "plt.ylabel('Number of Employees')\n",
    "plt.bar_label(yesBar, padding=3)\n",
    "plt.bar_label(noBar, padding=3)\n",
    "plt.show()"
   ]
  },
  {
   "cell_type": "markdown",
   "id": "f6dbd58f",
   "metadata": {},
   "source": [
    "##### 3)EXPLORE THE DATA FOR LEFT EMPLOYEES"
   ]
  },
  {
   "cell_type": "code",
   "execution_count": null,
   "id": "2c08c0b6",
   "metadata": {},
   "outputs": [],
   "source": [
    "# Interpreting this as the data for employees that have left the company that is Employees with an attrtion status of YES.\n",
    "# Extracting the data for employees with an attrition status 'Yes'\n",
    "employee_attrition_status = df_attrition_data.groupby('Attrition')\n",
    "left_employee = employee_attrition_status.get_group('Yes')"
   ]
  },
  {
   "cell_type": "code",
   "execution_count": null,
   "id": "bf865ed4",
   "metadata": {},
   "outputs": [],
   "source": [
    "# Viewing the shape\n",
    "left_employee.shape"
   ]
  },
  {
   "cell_type": "code",
   "execution_count": null,
   "id": "b5d48d05",
   "metadata": {},
   "outputs": [],
   "source": [
    "# Viewing the size\n",
    "left_employee.size"
   ]
  },
  {
   "cell_type": "code",
   "execution_count": null,
   "id": "93f19448",
   "metadata": {},
   "outputs": [],
   "source": [
    "# Viewing the first five records\n",
    "left_employee.head()"
   ]
  },
  {
   "cell_type": "code",
   "execution_count": null,
   "id": "260b8124",
   "metadata": {},
   "outputs": [],
   "source": [
    "# Exploring various stats of each column\n",
    "left_employee.describe()"
   ]
  },
  {
   "cell_type": "code",
   "execution_count": null,
   "id": "09b822d6",
   "metadata": {},
   "outputs": [],
   "source": [
    "# Exploring the correlations between the columns\n",
    "correlations = left_employee.corr()\n",
    "correlations"
   ]
  },
  {
   "cell_type": "code",
   "execution_count": null,
   "id": "a22a23c6",
   "metadata": {},
   "outputs": [],
   "source": [
    "# Generating a heatmap to better explore the data of the left employees\n",
    "plt.figure(figsize=(8, 8))\n",
    "sns.heatmap(data=correlations, square=True, cmap='bwr')\n",
    "plt.yticks(rotation=0)\n",
    "plt.xticks(rotation=90)\n",
    "plt.show()"
   ]
  },
  {
   "cell_type": "markdown",
   "id": "f25b33bf",
   "metadata": {},
   "source": [
    "##### 4)DISTRIBUTION OF EMPLOYEES BY THE EDUCATION FIELD"
   ]
  },
  {
   "cell_type": "code",
   "execution_count": null,
   "id": "3f3e6e70",
   "metadata": {},
   "outputs": [],
   "source": [
    "# Ordering the data by the Education fields\n",
    "employee_education_field = df_attrition_data.groupby('EducationField')\n",
    "# Viewing all fields\n",
    "employee_education_field.size()"
   ]
  },
  {
   "cell_type": "code",
   "execution_count": null,
   "id": "84da40d0",
   "metadata": {},
   "outputs": [],
   "source": [
    "fields = ['Human Resources', 'Life Sciences',\n",
    "          'Marketing', 'Medical', 'Technical Degree', 'Other']\n",
    "no_of_employees = [len(employee_education_field.get_group(i)) for i in fields]"
   ]
  },
  {
   "cell_type": "code",
   "execution_count": null,
   "id": "67cd7714",
   "metadata": {},
   "outputs": [],
   "source": [
    "# Additional imports for the plot\n",
    "from matplotlib import style\n",
    "%matplotlib inline"
   ]
  },
  {
   "cell_type": "code",
   "execution_count": null,
   "id": "6f052616",
   "metadata": {},
   "outputs": [],
   "source": [
    "style.use('ggplot')\n",
    "\n",
    "fig, ax = plt.subplots(1, 1, figsize=(10, 10))\n",
    "edu_bar = ax.bar(fields, no_of_employees, facecolor='g')\n",
    "\n",
    "# Set title\n",
    "ax.set_title(\"DISTRIBUTION OF EMPLOYEES BY EDUCATION FIELD\")\n",
    "ax.set_xlabel('EDUCATION FIELD')\n",
    "ax.set_ylabel('NUMBER OF EMPLOYEES')\n",
    "\n",
    "ax.bar_label(edu_bar, padding=1)\n",
    "\n",
    "x = np.arange(len(fields))\n",
    "ax.set_xticks(x, fields)\n",
    "\n",
    "plt.show()"
   ]
  },
  {
   "cell_type": "markdown",
   "id": "4c958195",
   "metadata": {},
   "source": [
    "##### 5)BAR CHART FOR THE NUMBER OF MARRIED AND UNMARRIED COUPLES"
   ]
  },
  {
   "cell_type": "code",
   "execution_count": 3,
   "id": "4032b6ce",
   "metadata": {},
   "outputs": [
    {
     "data": {
      "text/plain": [
       "MaritalStatus\n",
       "Divorced    327\n",
       "Married     673\n",
       "Single      470\n",
       "dtype: int64"
      ]
     },
     "execution_count": 3,
     "metadata": {},
     "output_type": "execute_result"
    }
   ],
   "source": [
    "employee_marital_status = df_attrition_data.groupby('MaritalStatus')\n",
    "employee_marital_status.size()"
   ]
  },
  {
   "cell_type": "code",
   "execution_count": 4,
   "id": "bc2c6c84",
   "metadata": {},
   "outputs": [],
   "source": [
    "status = ['Married', 'Unmarried']\n",
    "# To obtain the number of married employees, we get the total number of employees with their marital status as 'Married'\n",
    "married_employees = len(employee_marital_status.get_group('Married'))\n",
    "\n",
    "# To obtain the number of unmarried employees, we get the total number of employees with their marital status as 'Divorced' and 'Single'\n",
    "unmarried_employees = len(employee_marital_status.get_group(\n",
    "    'Divorced')) + len(employee_marital_status.get_group('Single'))\n",
    "\n",
    "number_of_employees = [married_employees, unmarried_employees]"
   ]
  },
  {
   "cell_type": "code",
   "execution_count": 5,
   "id": "75b54222",
   "metadata": {},
   "outputs": [
    {
     "ename": "NameError",
     "evalue": "name 'style' is not defined",
     "output_type": "error",
     "traceback": [
      "\u001b[1;31m---------------------------------------------------------------------------\u001b[0m",
      "\u001b[1;31mNameError\u001b[0m                                 Traceback (most recent call last)",
      "Input \u001b[1;32mIn [5]\u001b[0m, in \u001b[0;36m<cell line: 1>\u001b[1;34m()\u001b[0m\n\u001b[1;32m----> 1\u001b[0m \u001b[43mstyle\u001b[49m\u001b[38;5;241m.\u001b[39muse(\u001b[38;5;124m'\u001b[39m\u001b[38;5;124mggplot\u001b[39m\u001b[38;5;124m'\u001b[39m)\n\u001b[0;32m      3\u001b[0m fig, ax \u001b[38;5;241m=\u001b[39m plt\u001b[38;5;241m.\u001b[39msubplots(\u001b[38;5;241m1\u001b[39m, \u001b[38;5;241m1\u001b[39m, figsize\u001b[38;5;241m=\u001b[39m(\u001b[38;5;241m7\u001b[39m, \u001b[38;5;241m7\u001b[39m))\n\u001b[0;32m      4\u001b[0m bar \u001b[38;5;241m=\u001b[39m ax\u001b[38;5;241m.\u001b[39mbar(status, number_of_employees, facecolor\u001b[38;5;241m=\u001b[39m\u001b[38;5;124m'\u001b[39m\u001b[38;5;124mg\u001b[39m\u001b[38;5;124m'\u001b[39m)\n",
      "\u001b[1;31mNameError\u001b[0m: name 'style' is not defined"
     ]
    }
   ],
   "source": [
    "style.use('ggplot')\n",
    "\n",
    "fig, ax = plt.subplots(1, 1, figsize=(7, 7))\n",
    "bar = ax.bar(status, number_of_employees, facecolor='g')\n",
    "\n",
    "# Set title\n",
    "ax.set_title(\"BAR CHART FOR THE NUMBER OF MARRIED AND UNMARRIED EMPLOYEES\")\n",
    "ax.set_xlabel('MARITAL STATUS')\n",
    "ax.set_ylabel('NUMBER OF EMPLOYEES')\n",
    "\n",
    "ax.bar_label(bar, padding=1)\n",
    "\n",
    "x = np.arange(len(status))\n",
    "ax.set_xticks(x, status)\n",
    "\n",
    "plt.show()"
   ]
  },
  {
   "cell_type": "code",
   "execution_count": null,
   "id": "23684ee9",
   "metadata": {},
   "outputs": [],
   "source": []
  }
 ],
 "metadata": {
  "kernelspec": {
   "display_name": "Python 3 (ipykernel)",
   "language": "python",
   "name": "python3"
  },
  "language_info": {
   "codemirror_mode": {
    "name": "ipython",
    "version": 3
   },
   "file_extension": ".py",
   "mimetype": "text/x-python",
   "name": "python",
   "nbconvert_exporter": "python",
   "pygments_lexer": "ipython3",
   "version": "3.10.4"
  }
 },
 "nbformat": 4,
 "nbformat_minor": 5
}
